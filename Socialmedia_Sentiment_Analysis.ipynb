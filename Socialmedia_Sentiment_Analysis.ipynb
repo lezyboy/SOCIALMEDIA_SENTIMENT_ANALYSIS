{
 "cells": [
  {
   "cell_type": "markdown",
   "metadata": {},
   "source": [
    "## Importing Importent Packages and libraries"
   ]
  },
  {
   "cell_type": "code",
   "execution_count": 2,
   "metadata": {},
   "outputs": [],
   "source": [
    "import pandas as pd\n",
    "import numpy as np\n",
    "import re\n",
    "import seaborn as sns\n",
    "from nltk.corpus import stopwords\n",
    "from nltk.stem.porter import PorterStemmer\n",
    "from sklearn.model_selection import train_test_split\n",
    "from sklearn.linear_model import LogisticRegressionCV\n",
    "from sklearn.metrics import accuracy_score\n",
    "from sklearn.feature_extraction.text import TfidfVectorizer\n"
   ]
  },
  {
   "cell_type": "markdown",
   "metadata": {},
   "source": [
    "## Read the Data set"
   ]
  },
  {
   "cell_type": "code",
   "execution_count": 3,
   "metadata": {},
   "outputs": [
    {
     "data": {
      "text/html": [
       "<div>\n",
       "<style scoped>\n",
       "    .dataframe tbody tr th:only-of-type {\n",
       "        vertical-align: middle;\n",
       "    }\n",
       "\n",
       "    .dataframe tbody tr th {\n",
       "        vertical-align: top;\n",
       "    }\n",
       "\n",
       "    .dataframe thead th {\n",
       "        text-align: right;\n",
       "    }\n",
       "</style>\n",
       "<table border=\"1\" class=\"dataframe\">\n",
       "  <thead>\n",
       "    <tr style=\"text-align: right;\">\n",
       "      <th></th>\n",
       "      <th>tweet_id</th>\n",
       "      <th>airline_sentiment</th>\n",
       "      <th>airline_sentiment_confidence</th>\n",
       "      <th>negativereason</th>\n",
       "      <th>negativereason_confidence</th>\n",
       "      <th>airline</th>\n",
       "      <th>airline_sentiment_gold</th>\n",
       "      <th>name</th>\n",
       "      <th>negativereason_gold</th>\n",
       "      <th>retweet_count</th>\n",
       "      <th>text</th>\n",
       "      <th>tweet_coord</th>\n",
       "      <th>tweet_created</th>\n",
       "      <th>tweet_location</th>\n",
       "      <th>user_timezone</th>\n",
       "    </tr>\n",
       "  </thead>\n",
       "  <tbody>\n",
       "    <tr>\n",
       "      <th>0</th>\n",
       "      <td>570306133677760513</td>\n",
       "      <td>neutral</td>\n",
       "      <td>1.0000</td>\n",
       "      <td>NaN</td>\n",
       "      <td>NaN</td>\n",
       "      <td>Virgin America</td>\n",
       "      <td>NaN</td>\n",
       "      <td>cairdin</td>\n",
       "      <td>NaN</td>\n",
       "      <td>0</td>\n",
       "      <td>@VirginAmerica What @dhepburn said.</td>\n",
       "      <td>NaN</td>\n",
       "      <td>2015-02-24 11:35:52 -0800</td>\n",
       "      <td>NaN</td>\n",
       "      <td>Eastern Time (US &amp; Canada)</td>\n",
       "    </tr>\n",
       "    <tr>\n",
       "      <th>1</th>\n",
       "      <td>570301130888122368</td>\n",
       "      <td>positive</td>\n",
       "      <td>0.3486</td>\n",
       "      <td>NaN</td>\n",
       "      <td>0.0000</td>\n",
       "      <td>Virgin America</td>\n",
       "      <td>NaN</td>\n",
       "      <td>jnardino</td>\n",
       "      <td>NaN</td>\n",
       "      <td>0</td>\n",
       "      <td>@VirginAmerica plus you've added commercials t...</td>\n",
       "      <td>NaN</td>\n",
       "      <td>2015-02-24 11:15:59 -0800</td>\n",
       "      <td>NaN</td>\n",
       "      <td>Pacific Time (US &amp; Canada)</td>\n",
       "    </tr>\n",
       "    <tr>\n",
       "      <th>2</th>\n",
       "      <td>570301083672813571</td>\n",
       "      <td>neutral</td>\n",
       "      <td>0.6837</td>\n",
       "      <td>NaN</td>\n",
       "      <td>NaN</td>\n",
       "      <td>Virgin America</td>\n",
       "      <td>NaN</td>\n",
       "      <td>yvonnalynn</td>\n",
       "      <td>NaN</td>\n",
       "      <td>0</td>\n",
       "      <td>@VirginAmerica I didn't today... Must mean I n...</td>\n",
       "      <td>NaN</td>\n",
       "      <td>2015-02-24 11:15:48 -0800</td>\n",
       "      <td>Lets Play</td>\n",
       "      <td>Central Time (US &amp; Canada)</td>\n",
       "    </tr>\n",
       "    <tr>\n",
       "      <th>3</th>\n",
       "      <td>570301031407624196</td>\n",
       "      <td>negative</td>\n",
       "      <td>1.0000</td>\n",
       "      <td>Bad Flight</td>\n",
       "      <td>0.7033</td>\n",
       "      <td>Virgin America</td>\n",
       "      <td>NaN</td>\n",
       "      <td>jnardino</td>\n",
       "      <td>NaN</td>\n",
       "      <td>0</td>\n",
       "      <td>@VirginAmerica it's really aggressive to blast...</td>\n",
       "      <td>NaN</td>\n",
       "      <td>2015-02-24 11:15:36 -0800</td>\n",
       "      <td>NaN</td>\n",
       "      <td>Pacific Time (US &amp; Canada)</td>\n",
       "    </tr>\n",
       "    <tr>\n",
       "      <th>4</th>\n",
       "      <td>570300817074462722</td>\n",
       "      <td>negative</td>\n",
       "      <td>1.0000</td>\n",
       "      <td>Can't Tell</td>\n",
       "      <td>1.0000</td>\n",
       "      <td>Virgin America</td>\n",
       "      <td>NaN</td>\n",
       "      <td>jnardino</td>\n",
       "      <td>NaN</td>\n",
       "      <td>0</td>\n",
       "      <td>@VirginAmerica and it's a really big bad thing...</td>\n",
       "      <td>NaN</td>\n",
       "      <td>2015-02-24 11:14:45 -0800</td>\n",
       "      <td>NaN</td>\n",
       "      <td>Pacific Time (US &amp; Canada)</td>\n",
       "    </tr>\n",
       "    <tr>\n",
       "      <th>...</th>\n",
       "      <td>...</td>\n",
       "      <td>...</td>\n",
       "      <td>...</td>\n",
       "      <td>...</td>\n",
       "      <td>...</td>\n",
       "      <td>...</td>\n",
       "      <td>...</td>\n",
       "      <td>...</td>\n",
       "      <td>...</td>\n",
       "      <td>...</td>\n",
       "      <td>...</td>\n",
       "      <td>...</td>\n",
       "      <td>...</td>\n",
       "      <td>...</td>\n",
       "      <td>...</td>\n",
       "    </tr>\n",
       "    <tr>\n",
       "      <th>595</th>\n",
       "      <td>570260118043914240</td>\n",
       "      <td>negative</td>\n",
       "      <td>1.0000</td>\n",
       "      <td>Customer Service Issue</td>\n",
       "      <td>1.0000</td>\n",
       "      <td>United</td>\n",
       "      <td>NaN</td>\n",
       "      <td>throthra</td>\n",
       "      <td>NaN</td>\n",
       "      <td>0</td>\n",
       "      <td>@united why am I to believe they will help whe...</td>\n",
       "      <td>NaN</td>\n",
       "      <td>2015-02-24 08:33:01 -0800</td>\n",
       "      <td>NaN</td>\n",
       "      <td>NaN</td>\n",
       "    </tr>\n",
       "    <tr>\n",
       "      <th>596</th>\n",
       "      <td>570259691579809792</td>\n",
       "      <td>negative</td>\n",
       "      <td>0.6957</td>\n",
       "      <td>Lost Luggage</td>\n",
       "      <td>0.6957</td>\n",
       "      <td>United</td>\n",
       "      <td>NaN</td>\n",
       "      <td>jakepoznak</td>\n",
       "      <td>NaN</td>\n",
       "      <td>0</td>\n",
       "      <td>@united they helped me at the baggage service ...</td>\n",
       "      <td>NaN</td>\n",
       "      <td>2015-02-24 08:31:20 -0800</td>\n",
       "      <td>NaN</td>\n",
       "      <td>Eastern Time (US &amp; Canada)</td>\n",
       "    </tr>\n",
       "    <tr>\n",
       "      <th>597</th>\n",
       "      <td>570259632557395968</td>\n",
       "      <td>negative</td>\n",
       "      <td>0.6281</td>\n",
       "      <td>Customer Service Issue</td>\n",
       "      <td>0.3391</td>\n",
       "      <td>United</td>\n",
       "      <td>NaN</td>\n",
       "      <td>AldenGlobe</td>\n",
       "      <td>NaN</td>\n",
       "      <td>0</td>\n",
       "      <td>@united Mobile boarding pass disappeared from ...</td>\n",
       "      <td>NaN</td>\n",
       "      <td>2015-02-24 08:31:05 -0800</td>\n",
       "      <td>Steamboat Springs, CO</td>\n",
       "      <td>Mountain Time (US &amp; Canada)</td>\n",
       "    </tr>\n",
       "    <tr>\n",
       "      <th>598</th>\n",
       "      <td>570259311315836928</td>\n",
       "      <td>positive</td>\n",
       "      <td>1.0000</td>\n",
       "      <td>NaN</td>\n",
       "      <td>NaN</td>\n",
       "      <td>United</td>\n",
       "      <td>NaN</td>\n",
       "      <td>cehertz</td>\n",
       "      <td>NaN</td>\n",
       "      <td>0</td>\n",
       "      <td>@united for the record- Rozana at Newark was l...</td>\n",
       "      <td>NaN</td>\n",
       "      <td>2015-02-24 08:29:49 -0800</td>\n",
       "      <td>btv</td>\n",
       "      <td>NaN</td>\n",
       "    </tr>\n",
       "    <tr>\n",
       "      <th>599</th>\n",
       "      <td>570259131879309312</td>\n",
       "      <td>neutral</td>\n",
       "      <td>0.6466</td>\n",
       "      <td>NaN</td>\n",
       "      <td>0.0000</td>\n",
       "      <td>United</td>\n",
       "      <td>NaN</td>\n",
       "      <td>Mateyush</td>\n",
       "      <td>NaN</td>\n",
       "      <td>0</td>\n",
       "      <td>@united It was last night's 1235/ORD-LGA.</td>\n",
       "      <td>NaN</td>\n",
       "      <td>2015-02-24 08:29:06 -0800</td>\n",
       "      <td>Above the B/D/N/Q/R/2/3/4/5</td>\n",
       "      <td>Eastern Time (US &amp; Canada)</td>\n",
       "    </tr>\n",
       "  </tbody>\n",
       "</table>\n",
       "<p>600 rows × 15 columns</p>\n",
       "</div>"
      ],
      "text/plain": [
       "               tweet_id airline_sentiment  airline_sentiment_confidence  \\\n",
       "0    570306133677760513           neutral                        1.0000   \n",
       "1    570301130888122368          positive                        0.3486   \n",
       "2    570301083672813571           neutral                        0.6837   \n",
       "3    570301031407624196          negative                        1.0000   \n",
       "4    570300817074462722          negative                        1.0000   \n",
       "..                  ...               ...                           ...   \n",
       "595  570260118043914240          negative                        1.0000   \n",
       "596  570259691579809792          negative                        0.6957   \n",
       "597  570259632557395968          negative                        0.6281   \n",
       "598  570259311315836928          positive                        1.0000   \n",
       "599  570259131879309312           neutral                        0.6466   \n",
       "\n",
       "             negativereason  negativereason_confidence         airline  \\\n",
       "0                       NaN                        NaN  Virgin America   \n",
       "1                       NaN                     0.0000  Virgin America   \n",
       "2                       NaN                        NaN  Virgin America   \n",
       "3                Bad Flight                     0.7033  Virgin America   \n",
       "4                Can't Tell                     1.0000  Virgin America   \n",
       "..                      ...                        ...             ...   \n",
       "595  Customer Service Issue                     1.0000          United   \n",
       "596            Lost Luggage                     0.6957          United   \n",
       "597  Customer Service Issue                     0.3391          United   \n",
       "598                     NaN                        NaN          United   \n",
       "599                     NaN                     0.0000          United   \n",
       "\n",
       "    airline_sentiment_gold        name negativereason_gold  retweet_count  \\\n",
       "0                      NaN     cairdin                 NaN              0   \n",
       "1                      NaN    jnardino                 NaN              0   \n",
       "2                      NaN  yvonnalynn                 NaN              0   \n",
       "3                      NaN    jnardino                 NaN              0   \n",
       "4                      NaN    jnardino                 NaN              0   \n",
       "..                     ...         ...                 ...            ...   \n",
       "595                    NaN    throthra                 NaN              0   \n",
       "596                    NaN  jakepoznak                 NaN              0   \n",
       "597                    NaN  AldenGlobe                 NaN              0   \n",
       "598                    NaN     cehertz                 NaN              0   \n",
       "599                    NaN    Mateyush                 NaN              0   \n",
       "\n",
       "                                                  text tweet_coord  \\\n",
       "0                  @VirginAmerica What @dhepburn said.         NaN   \n",
       "1    @VirginAmerica plus you've added commercials t...         NaN   \n",
       "2    @VirginAmerica I didn't today... Must mean I n...         NaN   \n",
       "3    @VirginAmerica it's really aggressive to blast...         NaN   \n",
       "4    @VirginAmerica and it's a really big bad thing...         NaN   \n",
       "..                                                 ...         ...   \n",
       "595  @united why am I to believe they will help whe...         NaN   \n",
       "596  @united they helped me at the baggage service ...         NaN   \n",
       "597  @united Mobile boarding pass disappeared from ...         NaN   \n",
       "598  @united for the record- Rozana at Newark was l...         NaN   \n",
       "599          @united It was last night's 1235/ORD-LGA.         NaN   \n",
       "\n",
       "                 tweet_created               tweet_location  \\\n",
       "0    2015-02-24 11:35:52 -0800                          NaN   \n",
       "1    2015-02-24 11:15:59 -0800                          NaN   \n",
       "2    2015-02-24 11:15:48 -0800                    Lets Play   \n",
       "3    2015-02-24 11:15:36 -0800                          NaN   \n",
       "4    2015-02-24 11:14:45 -0800                          NaN   \n",
       "..                         ...                          ...   \n",
       "595  2015-02-24 08:33:01 -0800                          NaN   \n",
       "596  2015-02-24 08:31:20 -0800                          NaN   \n",
       "597  2015-02-24 08:31:05 -0800        Steamboat Springs, CO   \n",
       "598  2015-02-24 08:29:49 -0800                          btv   \n",
       "599  2015-02-24 08:29:06 -0800  Above the B/D/N/Q/R/2/3/4/5   \n",
       "\n",
       "                   user_timezone  \n",
       "0     Eastern Time (US & Canada)  \n",
       "1     Pacific Time (US & Canada)  \n",
       "2     Central Time (US & Canada)  \n",
       "3     Pacific Time (US & Canada)  \n",
       "4     Pacific Time (US & Canada)  \n",
       "..                           ...  \n",
       "595                          NaN  \n",
       "596   Eastern Time (US & Canada)  \n",
       "597  Mountain Time (US & Canada)  \n",
       "598                          NaN  \n",
       "599   Eastern Time (US & Canada)  \n",
       "\n",
       "[600 rows x 15 columns]"
      ]
     },
     "execution_count": 3,
     "metadata": {},
     "output_type": "execute_result"
    }
   ],
   "source": [
    "df=pd.read_csv('Tweets.csv')\n",
    "df.shape\n",
    "df.head(600)"
   ]
  },
  {
   "cell_type": "markdown",
   "metadata": {},
   "source": [
    "## Chacking total missing values in the data set"
   ]
  },
  {
   "cell_type": "code",
   "execution_count": 4,
   "metadata": {},
   "outputs": [
    {
     "data": {
      "text/plain": [
       "tweet_id                            0\n",
       "airline_sentiment                   0\n",
       "airline_sentiment_confidence        0\n",
       "negativereason                   5462\n",
       "negativereason_confidence        4118\n",
       "airline                             0\n",
       "airline_sentiment_gold          14600\n",
       "name                                0\n",
       "negativereason_gold             14608\n",
       "retweet_count                       0\n",
       "text                                0\n",
       "tweet_coord                     13621\n",
       "tweet_created                       0\n",
       "tweet_location                   4733\n",
       "user_timezone                    4820\n",
       "dtype: int64"
      ]
     },
     "execution_count": 4,
     "metadata": {},
     "output_type": "execute_result"
    }
   ],
   "source": [
    "df.isnull().sum()"
   ]
  },
  {
   "cell_type": "markdown",
   "metadata": {},
   "source": [
    "## Heatmap of null values"
   ]
  },
  {
   "cell_type": "code",
   "execution_count": 5,
   "metadata": {},
   "outputs": [
    {
     "data": {
      "text/plain": [
       "<Axes: >"
      ]
     },
     "execution_count": 5,
     "metadata": {},
     "output_type": "execute_result"
    },
    {
     "data": {
      "image/png": "[encoded data removed]",
      "text/plain": [
       "<Figure size 640x480 with 2 Axes>"
      ]
     },
     "metadata": {},
     "output_type": "display_data"
    }
   ],
   "source": [
    "sns.heatmap(df.isnull())"
   ]
  },
  {
   "cell_type": "markdown",
   "metadata": {},
   "source": [
    "## Sentiment graph for the reactions"
   ]
  },
  {
   "cell_type": "code",
   "execution_count": 6,
   "metadata": {},
   "outputs": [
    {
     "data": {
      "text/plain": [
       "<seaborn.axisgrid.FacetGrid at 0x241e7921f00>"
      ]
     },
     "execution_count": 6,
     "metadata": {},
     "output_type": "execute_result"
    },
    {
     "data": {
      "image/png": "[encoded data removed]",
      "text/plain": [
       "<Figure size 500x500 with 1 Axes>"
      ]
     },
     "metadata": {},
     "output_type": "display_data"
    }
   ],
   "source": [
    "sns.displot(df['airline_sentiment'],color='skyblue')"
   ]
  },
  {
   "cell_type": "markdown",
   "metadata": {},
   "source": [
    "## Handling The missing Values of clean the data set\n",
    "### 1-mode imputation on negativereason"
   ]
  },
  {
   "cell_type": "code",
   "execution_count": 7,
   "metadata": {},
   "outputs": [],
   "source": [
    "mode=df[df['negativereason'].notna()]['negativereason'].mode()[0]\n",
    "df['negativereason']=df['negativereason'].fillna(mode)"
   ]
  },
  {
   "cell_type": "markdown",
   "metadata": {},
   "source": [
    "### 2-Median imputation on negativereason_confidence"
   ]
  },
  {
   "cell_type": "code",
   "execution_count": 8,
   "metadata": {},
   "outputs": [],
   "source": [
    "df['negativereason_confidence']=df['negativereason_confidence'].fillna(df['negativereason_confidence'].median())"
   ]
  },
  {
   "cell_type": "markdown",
   "metadata": {},
   "source": [
    "### 3-Mode imputation on airline_sentiment_gold"
   ]
  },
  {
   "cell_type": "code",
   "execution_count": 9,
   "metadata": {},
   "outputs": [],
   "source": [
    "mode1=df[df['airline_sentiment_gold'].notna()]['airline_sentiment_gold'].mode()[0]\n",
    "df['airline_sentiment_gold']=df['airline_sentiment_gold'].fillna(mode1)"
   ]
  },
  {
   "cell_type": "markdown",
   "metadata": {},
   "source": [
    "### 4-Mode imputation on negativereason_gold"
   ]
  },
  {
   "cell_type": "code",
   "execution_count": 10,
   "metadata": {},
   "outputs": [],
   "source": [
    "mode2=df[df['negativereason_gold'].notna()]['negativereason_gold'].mode()[0]\n",
    "df['negativereason_gold']=df['negativereason_gold'].fillna(mode2)\n"
   ]
  },
  {
   "cell_type": "markdown",
   "metadata": {},
   "source": [
    "### 5-Mode imputation on tweet_coord"
   ]
  },
  {
   "cell_type": "code",
   "execution_count": 11,
   "metadata": {},
   "outputs": [],
   "source": [
    "mode3=df[df['tweet_coord'].notna()]['tweet_coord'].mode()[0]\n",
    "df['tweet_coord']=df['tweet_coord'].fillna(mode3)"
   ]
  },
  {
   "cell_type": "markdown",
   "metadata": {},
   "source": [
    "### 6-Mode imputation on tweet_location"
   ]
  },
  {
   "cell_type": "code",
   "execution_count": 12,
   "metadata": {},
   "outputs": [],
   "source": [
    "mode4=df[df['tweet_location'].notna()]['tweet_location'].mode()[0]\n",
    "df['tweet_location']=df['tweet_location'].fillna(mode4)"
   ]
  },
  {
   "cell_type": "markdown",
   "metadata": {},
   "source": [
    "### 7-Mode imputation on user_timezone"
   ]
  },
  {
   "cell_type": "code",
   "execution_count": 13,
   "metadata": {},
   "outputs": [],
   "source": [
    "mode5=df[df['user_timezone'].notna()]['user_timezone'].mode()[0]\n",
    "df['user_timezone']=df['user_timezone'].fillna(mode5)\n"
   ]
  },
  {
   "cell_type": "code",
   "execution_count": 14,
   "metadata": {},
   "outputs": [
    {
     "data": {
      "text/html": [
       "<div>\n",
       "<style scoped>\n",
       "    .dataframe tbody tr th:only-of-type {\n",
       "        vertical-align: middle;\n",
       "    }\n",
       "\n",
       "    .dataframe tbody tr th {\n",
       "        vertical-align: top;\n",
       "    }\n",
       "\n",
       "    .dataframe thead th {\n",
       "        text-align: right;\n",
       "    }\n",
       "</style>\n",
       "<table border=\"1\" class=\"dataframe\">\n",
       "  <thead>\n",
       "    <tr style=\"text-align: right;\">\n",
       "      <th></th>\n",
       "      <th>tweet_id</th>\n",
       "      <th>airline_sentiment</th>\n",
       "      <th>airline_sentiment_confidence</th>\n",
       "      <th>negativereason</th>\n",
       "      <th>negativereason_confidence</th>\n",
       "      <th>airline</th>\n",
       "      <th>airline_sentiment_gold</th>\n",
       "      <th>name</th>\n",
       "      <th>negativereason_gold</th>\n",
       "      <th>retweet_count</th>\n",
       "      <th>text</th>\n",
       "      <th>tweet_coord</th>\n",
       "      <th>tweet_created</th>\n",
       "      <th>tweet_location</th>\n",
       "      <th>user_timezone</th>\n",
       "    </tr>\n",
       "  </thead>\n",
       "  <tbody>\n",
       "    <tr>\n",
       "      <th>0</th>\n",
       "      <td>570306133677760513</td>\n",
       "      <td>neutral</td>\n",
       "      <td>1.0000</td>\n",
       "      <td>Customer Service Issue</td>\n",
       "      <td>0.6706</td>\n",
       "      <td>Virgin America</td>\n",
       "      <td>negative</td>\n",
       "      <td>cairdin</td>\n",
       "      <td>Customer Service Issue</td>\n",
       "      <td>0</td>\n",
       "      <td>@VirginAmerica What @dhepburn said.</td>\n",
       "      <td>[0.0, 0.0]</td>\n",
       "      <td>2015-02-24 11:35:52 -0800</td>\n",
       "      <td>Boston, MA</td>\n",
       "      <td>Eastern Time (US &amp; Canada)</td>\n",
       "    </tr>\n",
       "    <tr>\n",
       "      <th>1</th>\n",
       "      <td>570301130888122368</td>\n",
       "      <td>positive</td>\n",
       "      <td>0.3486</td>\n",
       "      <td>Customer Service Issue</td>\n",
       "      <td>0.0000</td>\n",
       "      <td>Virgin America</td>\n",
       "      <td>negative</td>\n",
       "      <td>jnardino</td>\n",
       "      <td>Customer Service Issue</td>\n",
       "      <td>0</td>\n",
       "      <td>@VirginAmerica plus you've added commercials t...</td>\n",
       "      <td>[0.0, 0.0]</td>\n",
       "      <td>2015-02-24 11:15:59 -0800</td>\n",
       "      <td>Boston, MA</td>\n",
       "      <td>Pacific Time (US &amp; Canada)</td>\n",
       "    </tr>\n",
       "    <tr>\n",
       "      <th>2</th>\n",
       "      <td>570301083672813571</td>\n",
       "      <td>neutral</td>\n",
       "      <td>0.6837</td>\n",
       "      <td>Customer Service Issue</td>\n",
       "      <td>0.6706</td>\n",
       "      <td>Virgin America</td>\n",
       "      <td>negative</td>\n",
       "      <td>yvonnalynn</td>\n",
       "      <td>Customer Service Issue</td>\n",
       "      <td>0</td>\n",
       "      <td>@VirginAmerica I didn't today... Must mean I n...</td>\n",
       "      <td>[0.0, 0.0]</td>\n",
       "      <td>2015-02-24 11:15:48 -0800</td>\n",
       "      <td>Lets Play</td>\n",
       "      <td>Central Time (US &amp; Canada)</td>\n",
       "    </tr>\n",
       "    <tr>\n",
       "      <th>3</th>\n",
       "      <td>570301031407624196</td>\n",
       "      <td>negative</td>\n",
       "      <td>1.0000</td>\n",
       "      <td>Bad Flight</td>\n",
       "      <td>0.7033</td>\n",
       "      <td>Virgin America</td>\n",
       "      <td>negative</td>\n",
       "      <td>jnardino</td>\n",
       "      <td>Customer Service Issue</td>\n",
       "      <td>0</td>\n",
       "      <td>@VirginAmerica it's really aggressive to blast...</td>\n",
       "      <td>[0.0, 0.0]</td>\n",
       "      <td>2015-02-24 11:15:36 -0800</td>\n",
       "      <td>Boston, MA</td>\n",
       "      <td>Pacific Time (US &amp; Canada)</td>\n",
       "    </tr>\n",
       "    <tr>\n",
       "      <th>4</th>\n",
       "      <td>570300817074462722</td>\n",
       "      <td>negative</td>\n",
       "      <td>1.0000</td>\n",
       "      <td>Can't Tell</td>\n",
       "      <td>1.0000</td>\n",
       "      <td>Virgin America</td>\n",
       "      <td>negative</td>\n",
       "      <td>jnardino</td>\n",
       "      <td>Customer Service Issue</td>\n",
       "      <td>0</td>\n",
       "      <td>@VirginAmerica and it's a really big bad thing...</td>\n",
       "      <td>[0.0, 0.0]</td>\n",
       "      <td>2015-02-24 11:14:45 -0800</td>\n",
       "      <td>Boston, MA</td>\n",
       "      <td>Pacific Time (US &amp; Canada)</td>\n",
       "    </tr>\n",
       "    <tr>\n",
       "      <th>...</th>\n",
       "      <td>...</td>\n",
       "      <td>...</td>\n",
       "      <td>...</td>\n",
       "      <td>...</td>\n",
       "      <td>...</td>\n",
       "      <td>...</td>\n",
       "      <td>...</td>\n",
       "      <td>...</td>\n",
       "      <td>...</td>\n",
       "      <td>...</td>\n",
       "      <td>...</td>\n",
       "      <td>...</td>\n",
       "      <td>...</td>\n",
       "      <td>...</td>\n",
       "      <td>...</td>\n",
       "    </tr>\n",
       "    <tr>\n",
       "      <th>95</th>\n",
       "      <td>569910981868060673</td>\n",
       "      <td>negative</td>\n",
       "      <td>1.0000</td>\n",
       "      <td>Customer Service Issue</td>\n",
       "      <td>0.6863</td>\n",
       "      <td>Virgin America</td>\n",
       "      <td>negative</td>\n",
       "      <td>MerchEngines</td>\n",
       "      <td>Customer Service Issue</td>\n",
       "      <td>0</td>\n",
       "      <td>@VirginAmerica Is it me, or is your website do...</td>\n",
       "      <td>[0.0, 0.0]</td>\n",
       "      <td>2015-02-23 09:25:41 -0800</td>\n",
       "      <td>Los Angeles, CA</td>\n",
       "      <td>Arizona</td>\n",
       "    </tr>\n",
       "    <tr>\n",
       "      <th>96</th>\n",
       "      <td>569909224521641984</td>\n",
       "      <td>negative</td>\n",
       "      <td>1.0000</td>\n",
       "      <td>Customer Service Issue</td>\n",
       "      <td>0.6771</td>\n",
       "      <td>Virgin America</td>\n",
       "      <td>negative</td>\n",
       "      <td>ColorCartel</td>\n",
       "      <td>Customer Service Issue</td>\n",
       "      <td>0</td>\n",
       "      <td>@VirginAmerica I can't check in or add a bag. ...</td>\n",
       "      <td>[0.0, 0.0]</td>\n",
       "      <td>2015-02-23 09:18:42 -0800</td>\n",
       "      <td>Austin, TX</td>\n",
       "      <td>Mountain Time (US &amp; Canada)</td>\n",
       "    </tr>\n",
       "    <tr>\n",
       "      <th>97</th>\n",
       "      <td>569907336485019648</td>\n",
       "      <td>negative</td>\n",
       "      <td>1.0000</td>\n",
       "      <td>Can't Tell</td>\n",
       "      <td>0.6590</td>\n",
       "      <td>Virgin America</td>\n",
       "      <td>negative</td>\n",
       "      <td>MustBeSpoken</td>\n",
       "      <td>Customer Service Issue</td>\n",
       "      <td>0</td>\n",
       "      <td>@VirginAmerica - Let 2 scanned in passengers l...</td>\n",
       "      <td>[0.0, 0.0]</td>\n",
       "      <td>2015-02-23 09:11:12 -0800</td>\n",
       "      <td>Boston, MA</td>\n",
       "      <td>Eastern Time (US &amp; Canada)</td>\n",
       "    </tr>\n",
       "    <tr>\n",
       "      <th>98</th>\n",
       "      <td>569896805611089920</td>\n",
       "      <td>negative</td>\n",
       "      <td>1.0000</td>\n",
       "      <td>Flight Booking Problems</td>\n",
       "      <td>0.6714</td>\n",
       "      <td>Virgin America</td>\n",
       "      <td>negative</td>\n",
       "      <td>mattbunk</td>\n",
       "      <td>Customer Service Issue</td>\n",
       "      <td>0</td>\n",
       "      <td>@virginamerica What is your phone number. I ca...</td>\n",
       "      <td>[0.0, 0.0]</td>\n",
       "      <td>2015-02-23 08:29:21 -0800</td>\n",
       "      <td>Sterling Heights, MI</td>\n",
       "      <td>Eastern Time (US &amp; Canada)</td>\n",
       "    </tr>\n",
       "    <tr>\n",
       "      <th>99</th>\n",
       "      <td>569894449620369408</td>\n",
       "      <td>negative</td>\n",
       "      <td>1.0000</td>\n",
       "      <td>Customer Service Issue</td>\n",
       "      <td>1.0000</td>\n",
       "      <td>Virgin America</td>\n",
       "      <td>negative</td>\n",
       "      <td>louisjenny</td>\n",
       "      <td>Customer Service Issue</td>\n",
       "      <td>0</td>\n",
       "      <td>@VirginAmerica is anyone doing anything there ...</td>\n",
       "      <td>[0.0, 0.0]</td>\n",
       "      <td>2015-02-23 08:19:59 -0800</td>\n",
       "      <td>Washington DC</td>\n",
       "      <td>Quito</td>\n",
       "    </tr>\n",
       "  </tbody>\n",
       "</table>\n",
       "<p>100 rows × 15 columns</p>\n",
       "</div>"
      ],
      "text/plain": [
       "              tweet_id airline_sentiment  airline_sentiment_confidence  \\\n",
       "0   570306133677760513           neutral                        1.0000   \n",
       "1   570301130888122368          positive                        0.3486   \n",
       "2   570301083672813571           neutral                        0.6837   \n",
       "3   570301031407624196          negative                        1.0000   \n",
       "4   570300817074462722          negative                        1.0000   \n",
       "..                 ...               ...                           ...   \n",
       "95  569910981868060673          negative                        1.0000   \n",
       "96  569909224521641984          negative                        1.0000   \n",
       "97  569907336485019648          negative                        1.0000   \n",
       "98  569896805611089920          negative                        1.0000   \n",
       "99  569894449620369408          negative                        1.0000   \n",
       "\n",
       "             negativereason  negativereason_confidence         airline  \\\n",
       "0    Customer Service Issue                     0.6706  Virgin America   \n",
       "1    Customer Service Issue                     0.0000  Virgin America   \n",
       "2    Customer Service Issue                     0.6706  Virgin America   \n",
       "3                Bad Flight                     0.7033  Virgin America   \n",
       "4                Can't Tell                     1.0000  Virgin America   \n",
       "..                      ...                        ...             ...   \n",
       "95   Customer Service Issue                     0.6863  Virgin America   \n",
       "96   Customer Service Issue                     0.6771  Virgin America   \n",
       "97               Can't Tell                     0.6590  Virgin America   \n",
       "98  Flight Booking Problems                     0.6714  Virgin America   \n",
       "99   Customer Service Issue                     1.0000  Virgin America   \n",
       "\n",
       "   airline_sentiment_gold          name     negativereason_gold  \\\n",
       "0                negative       cairdin  Customer Service Issue   \n",
       "1                negative      jnardino  Customer Service Issue   \n",
       "2                negative    yvonnalynn  Customer Service Issue   \n",
       "3                negative      jnardino  Customer Service Issue   \n",
       "4                negative      jnardino  Customer Service Issue   \n",
       "..                    ...           ...                     ...   \n",
       "95               negative  MerchEngines  Customer Service Issue   \n",
       "96               negative   ColorCartel  Customer Service Issue   \n",
       "97               negative  MustBeSpoken  Customer Service Issue   \n",
       "98               negative      mattbunk  Customer Service Issue   \n",
       "99               negative    louisjenny  Customer Service Issue   \n",
       "\n",
       "    retweet_count                                               text  \\\n",
       "0               0                @VirginAmerica What @dhepburn said.   \n",
       "1               0  @VirginAmerica plus you've added commercials t...   \n",
       "2               0  @VirginAmerica I didn't today... Must mean I n...   \n",
       "3               0  @VirginAmerica it's really aggressive to blast...   \n",
       "4               0  @VirginAmerica and it's a really big bad thing...   \n",
       "..            ...                                                ...   \n",
       "95              0  @VirginAmerica Is it me, or is your website do...   \n",
       "96              0  @VirginAmerica I can't check in or add a bag. ...   \n",
       "97              0  @VirginAmerica - Let 2 scanned in passengers l...   \n",
       "98              0  @virginamerica What is your phone number. I ca...   \n",
       "99              0  @VirginAmerica is anyone doing anything there ...   \n",
       "\n",
       "   tweet_coord              tweet_created        tweet_location  \\\n",
       "0   [0.0, 0.0]  2015-02-24 11:35:52 -0800            Boston, MA   \n",
       "1   [0.0, 0.0]  2015-02-24 11:15:59 -0800            Boston, MA   \n",
       "2   [0.0, 0.0]  2015-02-24 11:15:48 -0800             Lets Play   \n",
       "3   [0.0, 0.0]  2015-02-24 11:15:36 -0800            Boston, MA   \n",
       "4   [0.0, 0.0]  2015-02-24 11:14:45 -0800            Boston, MA   \n",
       "..         ...                        ...                   ...   \n",
       "95  [0.0, 0.0]  2015-02-23 09:25:41 -0800       Los Angeles, CA   \n",
       "96  [0.0, 0.0]  2015-02-23 09:18:42 -0800            Austin, TX   \n",
       "97  [0.0, 0.0]  2015-02-23 09:11:12 -0800            Boston, MA   \n",
       "98  [0.0, 0.0]  2015-02-23 08:29:21 -0800  Sterling Heights, MI   \n",
       "99  [0.0, 0.0]  2015-02-23 08:19:59 -0800         Washington DC   \n",
       "\n",
       "                  user_timezone  \n",
       "0    Eastern Time (US & Canada)  \n",
       "1    Pacific Time (US & Canada)  \n",
       "2    Central Time (US & Canada)  \n",
       "3    Pacific Time (US & Canada)  \n",
       "4    Pacific Time (US & Canada)  \n",
       "..                          ...  \n",
       "95                      Arizona  \n",
       "96  Mountain Time (US & Canada)  \n",
       "97   Eastern Time (US & Canada)  \n",
       "98   Eastern Time (US & Canada)  \n",
       "99                        Quito  \n",
       "\n",
       "[100 rows x 15 columns]"
      ]
     },
     "execution_count": 14,
     "metadata": {},
     "output_type": "execute_result"
    }
   ],
   "source": [
    "df.head(100)"
   ]
  },
  {
   "cell_type": "markdown",
   "metadata": {},
   "source": [
    "## After handling the missing values here is the clean data"
   ]
  },
  {
   "cell_type": "code",
   "execution_count": 15,
   "metadata": {},
   "outputs": [
    {
     "data": {
      "text/plain": [
       "tweet_id                        0\n",
       "airline_sentiment               0\n",
       "airline_sentiment_confidence    0\n",
       "negativereason                  0\n",
       "negativereason_confidence       0\n",
       "airline                         0\n",
       "airline_sentiment_gold          0\n",
       "name                            0\n",
       "negativereason_gold             0\n",
       "retweet_count                   0\n",
       "text                            0\n",
       "tweet_coord                     0\n",
       "tweet_created                   0\n",
       "tweet_location                  0\n",
       "user_timezone                   0\n",
       "dtype: int64"
      ]
     },
     "execution_count": 15,
     "metadata": {},
     "output_type": "execute_result"
    }
   ],
   "source": [
    "df.isnull().sum()"
   ]
  },
  {
   "cell_type": "markdown",
   "metadata": {},
   "source": [
    "## Again checking the heat map after cleaning"
   ]
  },
  {
   "cell_type": "code",
   "execution_count": 16,
   "metadata": {},
   "outputs": [
    {
     "data": {
      "text/plain": [
       "<Axes: >"
      ]
     },
     "execution_count": 16,
     "metadata": {},
     "output_type": "execute_result"
    },
    {
     "data": {
      "image/png": "[encoded data removed]",
      "text/plain": [
       "<Figure size 640x480 with 2 Axes>"
      ]
     },
     "metadata": {},
     "output_type": "display_data"
    }
   ],
   "source": [
    "sns.heatmap(df.isnull())"
   ]
  },
  {
   "cell_type": "markdown",
   "metadata": {},
   "source": [
    "## Replace the reactions with numerical values for better under standing"
   ]
  },
  {
   "cell_type": "code",
   "execution_count": 17,
   "metadata": {},
   "outputs": [
    {
     "name": "stderr",
     "output_type": "stream",
     "text": [
      "C:\\Users\\ADMIN\\AppData\\Local\\Temp\\ipykernel_55332\\3761489794.py:3: FutureWarning: Downcasting behavior in `replace` is deprecated and will be removed in a future version. To retain the old behavior, explicitly call `result.infer_objects(copy=False)`. To opt-in to the future behavior, set `pd.set_option('future.no_silent_downcasting', True)`\n",
      "  df.replace({'airline_sentiment':{'neutral':2}},inplace=True)\n"
     ]
    }
   ],
   "source": [
    "df.replace({'airline_sentiment':{'positive':1}},inplace=True)\n",
    "df.replace({'airline_sentiment':{'negative':0}},inplace=True)\n",
    "df.replace({'airline_sentiment':{'neutral':2}},inplace=True)"
   ]
  },
  {
   "cell_type": "markdown",
   "metadata": {},
   "source": [
    "## Counting the total airline_sentiment values"
   ]
  },
  {
   "cell_type": "code",
   "execution_count": 18,
   "metadata": {},
   "outputs": [
    {
     "data": {
      "text/plain": [
       "airline_sentiment\n",
       "0    9178\n",
       "2    3099\n",
       "1    2363\n",
       "Name: count, dtype: int64"
      ]
     },
     "execution_count": 18,
     "metadata": {},
     "output_type": "execute_result"
    }
   ],
   "source": [
    "df['airline_sentiment'].value_counts()"
   ]
  },
  {
   "cell_type": "markdown",
   "metadata": {},
   "source": [
    "## Sentiment matrix after data cleaning"
   ]
  },
  {
   "cell_type": "code",
   "execution_count": 48,
   "metadata": {},
   "outputs": [
    {
     "data": {
      "text/plain": [
       "<seaborn.axisgrid.FacetGrid at 0x241ed14b820>"
      ]
     },
     "execution_count": 48,
     "metadata": {},
     "output_type": "execute_result"
    },
    {
     "data": {
      "image/png": "[encoded data removed]",
      "text/plain": [
       "<Figure size 500x500 with 1 Axes>"
      ]
     },
     "metadata": {},
     "output_type": "display_data"
    }
   ],
   "source": [
    "sns.displot(df['airline_sentiment'],color='orange')"
   ]
  },
  {
   "cell_type": "markdown",
   "metadata": {},
   "source": [
    "## Download the only stopwords module "
   ]
  },
  {
   "cell_type": "code",
   "execution_count": 20,
   "metadata": {},
   "outputs": [],
   "source": [
    "#import nltk\n",
    "#nltk.download('stopwords')"
   ]
  },
  {
   "cell_type": "markdown",
   "metadata": {},
   "source": [
    "## Daily uses commands "
   ]
  },
  {
   "cell_type": "code",
   "execution_count": 21,
   "metadata": {},
   "outputs": [
    {
     "name": "stdout",
     "output_type": "stream",
     "text": [
      "['i', 'me', 'my', 'myself', 'we', 'our', 'ours', 'ourselves', 'you', \"you're\", \"you've\", \"you'll\", \"you'd\", 'your', 'yours', 'yourself', 'yourselves', 'he', 'him', 'his', 'himself', 'she', \"she's\", 'her', 'hers', 'herself', 'it', \"it's\", 'its', 'itself', 'they', 'them', 'their', 'theirs', 'themselves', 'what', 'which', 'who', 'whom', 'this', 'that', \"that'll\", 'these', 'those', 'am', 'is', 'are', 'was', 'were', 'be', 'been', 'being', 'have', 'has', 'had', 'having', 'do', 'does', 'did', 'doing', 'a', 'an', 'the', 'and', 'but', 'if', 'or', 'because', 'as', 'until', 'while', 'of', 'at', 'by', 'for', 'with', 'about', 'against', 'between', 'into', 'through', 'during', 'before', 'after', 'above', 'below', 'to', 'from', 'up', 'down', 'in', 'out', 'on', 'off', 'over', 'under', 'again', 'further', 'then', 'once', 'here', 'there', 'when', 'where', 'why', 'how', 'all', 'any', 'both', 'each', 'few', 'more', 'most', 'other', 'some', 'such', 'no', 'nor', 'not', 'only', 'own', 'same', 'so', 'than', 'too', 'very', 's', 't', 'can', 'will', 'just', 'don', \"don't\", 'should', \"should've\", 'now', 'd', 'll', 'm', 'o', 're', 've', 'y', 'ain', 'aren', \"aren't\", 'couldn', \"couldn't\", 'didn', \"didn't\", 'doesn', \"doesn't\", 'hadn', \"hadn't\", 'hasn', \"hasn't\", 'haven', \"haven't\", 'isn', \"isn't\", 'ma', 'mightn', \"mightn't\", 'mustn', \"mustn't\", 'needn', \"needn't\", 'shan', \"shan't\", 'shouldn', \"shouldn't\", 'wasn', \"wasn't\", 'weren', \"weren't\", 'won', \"won't\", 'wouldn', \"wouldn't\"]\n"
     ]
    }
   ],
   "source": [
    "print(stopwords.words('english'))"
   ]
  },
  {
   "cell_type": "markdown",
   "metadata": {},
   "source": [
    "## Creating a function for clean the unnecessary comands from the Text content"
   ]
  },
  {
   "cell_type": "code",
   "execution_count": 22,
   "metadata": {},
   "outputs": [],
   "source": [
    "port_stem=PorterStemmer()"
   ]
  },
  {
   "cell_type": "markdown",
   "metadata": {},
   "source": [
    "### Stemming the Text content"
   ]
  },
  {
   "cell_type": "code",
   "execution_count": 23,
   "metadata": {},
   "outputs": [],
   "source": [
    "def stemming(content):\n",
    "    stemmed_content = re.sub('[^a-zA-Z]',' ',content)\n",
    "    stemmed_content = stemmed_content.lower()\n",
    "    stemmed_content = stemmed_content.split()\n",
    "    stemmed_content = [port_stem.stem(word) for word in stemmed_content if not word in stopwords.words('english')]\n",
    "    stemmed_content = ' '.join(stemmed_content)\n",
    "\n",
    "    return stemmed_content"
   ]
  },
  {
   "cell_type": "code",
   "execution_count": 24,
   "metadata": {},
   "outputs": [],
   "source": [
    "df['stemmed_content'] = df['text'].apply(stemming)"
   ]
  },
  {
   "cell_type": "code",
   "execution_count": 25,
   "metadata": {},
   "outputs": [
    {
     "name": "stdout",
     "output_type": "stream",
     "text": [
      "0                              virginamerica dhepburn said\n",
      "1               virginamerica plu ad commerci experi tacki\n",
      "2        virginamerica today must mean need take anoth ...\n",
      "3        virginamerica realli aggress blast obnoxi ente...\n",
      "4                       virginamerica realli big bad thing\n",
      "                               ...                        \n",
      "14635          americanair thank got differ flight chicago\n",
      "14636    americanair leav minut late flight warn commun...\n",
      "14637    americanair pleas bring american airlin blackb...\n",
      "14638    americanair money chang flight answer phone su...\n",
      "14639    americanair ppl need know mani seat next fligh...\n",
      "Name: stemmed_content, Length: 14640, dtype: object\n"
     ]
    }
   ],
   "source": [
    "print(df['stemmed_content'])"
   ]
  },
  {
   "cell_type": "code",
   "execution_count": 26,
   "metadata": {},
   "outputs": [],
   "source": [
    "x=df['stemmed_content'].values\n",
    "y=df['airline_sentiment'].values"
   ]
  },
  {
   "cell_type": "markdown",
   "metadata": {},
   "source": [
    "### Split Train Test Data"
   ]
  },
  {
   "cell_type": "code",
   "execution_count": 27,
   "metadata": {},
   "outputs": [],
   "source": [
    "x_train, x_test, y_train, y_test = train_test_split( x, y, test_size=0.2, random_state=2)"
   ]
  },
  {
   "cell_type": "code",
   "execution_count": 28,
   "metadata": {},
   "outputs": [
    {
     "name": "stdout",
     "output_type": "stream",
     "text": [
      "(14640,) (11712,) (2928,)\n"
     ]
    }
   ],
   "source": [
    "print(x.shape, x_train.shape, x_test.shape)"
   ]
  },
  {
   "cell_type": "code",
   "execution_count": 29,
   "metadata": {},
   "outputs": [
    {
     "name": "stdout",
     "output_type": "stream",
     "text": [
      "['usairway thank call cheapoairchat'\n",
      " 'unit tonight made fred flintston happi upgrad st class http co gkgkzlawpr'\n",
      " 'southwestair thank' ...\n",
      " 'southwestair bernhardtjh eventu get flight cancel flightl decid drive gave hold process refund'\n",
      " 'unit fli home event tomorrow push back flight ticket get home time'\n",
      " 'jetblu flight den jfk alreadi hr delay idea might chang due weather forecast etc']\n"
     ]
    }
   ],
   "source": [
    "print(x_train)"
   ]
  },
  {
   "cell_type": "code",
   "execution_count": 30,
   "metadata": {},
   "outputs": [
    {
     "name": "stdout",
     "output_type": "stream",
     "text": [
      "['jetblu thank'\n",
      " 'usairway go flight phl phx min estim departur nobodi board updat'\n",
      " 'americanair ye thank found see gray tab first' ...\n",
      " 'southwestair make flight fund forfeit show tri book anoth flight use fund'\n",
      " 'usairway cancel flightl want put us hotel night guess'\n",
      " 'unit someon miss connect flight airlin last flight day fix']\n"
     ]
    }
   ],
   "source": [
    "print(x_test)"
   ]
  },
  {
   "cell_type": "markdown",
   "metadata": {},
   "source": [
    "## Coverting the text content data to numerical values for the ML understanding purpose"
   ]
  },
  {
   "cell_type": "code",
   "execution_count": 31,
   "metadata": {},
   "outputs": [],
   "source": [
    "vectorizer=TfidfVectorizer()\n",
    "x_train=vectorizer.fit_transform(x_train)\n",
    "x_test=vectorizer.transform(x_test)"
   ]
  },
  {
   "cell_type": "code",
   "execution_count": 32,
   "metadata": {},
   "outputs": [
    {
     "name": "stdout",
     "output_type": "stream",
     "text": [
      "  (0, 8637)\t0.22992452432052907\n",
      "  (0, 8052)\t0.28304283148067094\n",
      "  (0, 1113)\t0.3590926953795947\n",
      "  (0, 1309)\t0.8591122771724313\n",
      "  (1, 8533)\t0.10351833510645304\n",
      "  (1, 8244)\t0.2465748104150846\n",
      "  (1, 4878)\t0.23375251504991643\n",
      "  (1, 3022)\t0.4312387234171083\n",
      "  (1, 2888)\t0.4312387234171083\n",
      "  (1, 3485)\t0.2673820998026499\n",
      "  (1, 8608)\t0.2514283355271054\n",
      "  (1, 7639)\t0.2591619017432782\n",
      "  (1, 1413)\t0.25470107574933204\n",
      "  (1, 3767)\t0.15691016432553495\n",
      "  (1, 1473)\t0.15676844381956842\n",
      "  (1, 3251)\t0.4312387234171083\n",
      "  (2, 8052)\t0.7531596019654002\n",
      "  (2, 7554)\t0.657837832575263\n",
      "  (3, 8637)\t0.1078382194962762\n",
      "  (3, 6653)\t0.20219206696348388\n",
      "  (3, 5109)\t0.5803158125733098\n",
      "  (3, 3982)\t0.33194135557355814\n",
      "  (3, 8750)\t0.3860512036413784\n",
      "  (3, 5372)\t0.2467855912291179\n",
      "  (3, 2428)\t0.2664574353092668\n",
      "  :\t:\n",
      "  (11710, 8533)\t0.12973162279979444\n",
      "  (11710, 8168)\t0.20885632263385995\n",
      "  (11710, 3199)\t0.18151613983423928\n",
      "  (11710, 3669)\t0.5512837247028779\n",
      "  (11710, 2867)\t0.1291972675716506\n",
      "  (11710, 8149)\t0.26130673409864547\n",
      "  (11710, 6481)\t0.39716687744531215\n",
      "  (11710, 571)\t0.24202908071826618\n",
      "  (11710, 8238)\t0.27164193238142204\n",
      "  (11710, 2864)\t0.22460668981308793\n",
      "  (11710, 2573)\t0.4208997935091155\n",
      "  (11711, 3755)\t0.22095999910244743\n",
      "  (11711, 1949)\t0.17962292619072884\n",
      "  (11711, 2867)\t0.1116998211976368\n",
      "  (11711, 2551)\t0.3638964860539102\n",
      "  (11711, 4213)\t0.138686829423297\n",
      "  (11711, 8935)\t0.23446188248696356\n",
      "  (11711, 5118)\t0.30140965874310677\n",
      "  (11711, 1279)\t0.21837995823578712\n",
      "  (11711, 239)\t0.26419028086521423\n",
      "  (11711, 2293)\t0.24607283605383143\n",
      "  (11711, 4235)\t0.2574721602157761\n",
      "  (11711, 3836)\t0.317971356684452\n",
      "  (11711, 1969)\t0.32138166348666225\n",
      "  (11711, 2966)\t0.4002980955453589\n"
     ]
    }
   ],
   "source": [
    "print(x_train)"
   ]
  },
  {
   "cell_type": "code",
   "execution_count": 33,
   "metadata": {},
   "outputs": [
    {
     "name": "stdout",
     "output_type": "stream",
     "text": [
      "  (0, 4213)\t0.6693433715773979\n",
      "  (0, 8052)\t0.7429531956492289\n",
      "  (1, 856)\t0.26010990785242155\n",
      "  (1, 1977)\t0.3243337457566032\n",
      "  (1, 2547)\t0.4288852965932391\n",
      "  (1, 2867)\t0.12583203549904193\n",
      "  (1, 3278)\t0.22719015826048367\n",
      "  (1, 5139)\t0.253770168363529\n",
      "  (1, 5543)\t0.4245307673163359\n",
      "  (1, 6137)\t0.3186682476618947\n",
      "  (1, 6150)\t0.3491127866237835\n",
      "  (1, 8604)\t0.2964109896307781\n",
      "  (1, 8637)\t0.140870348274204\n",
      "  (2, 268)\t0.14779502235025627\n",
      "  (2, 2828)\t0.28152407376865757\n",
      "  (2, 2993)\t0.35235722877936454\n",
      "  (2, 3363)\t0.5490176734099672\n",
      "  (2, 7191)\t0.28281084567946607\n",
      "  (2, 7925)\t0.5260098763131569\n",
      "  (2, 8052)\t0.18087917137715182\n",
      "  (2, 9275)\t0.28972256697851\n",
      "  (3, 771)\t0.2519179622387721\n",
      "  (3, 1131)\t0.1478539352952149\n",
      "  (3, 1840)\t0.2441404612080607\n",
      "  (3, 1949)\t0.14973859015083812\n",
      "  :\t:\n",
      "  (2925, 2973)\t0.40674028704777815\n",
      "  (2925, 3099)\t0.7000225294821674\n",
      "  (2925, 4898)\t0.20185668385285846\n",
      "  (2925, 7322)\t0.25504616096698274\n",
      "  (2925, 7554)\t0.12607681505119533\n",
      "  (2925, 8320)\t0.1913853795040697\n",
      "  (2925, 8653)\t0.22610662317888194\n",
      "  (2926, 1131)\t0.2510555314574966\n",
      "  (2926, 2875)\t0.2975145073661682\n",
      "  (2926, 3422)\t0.4386679352940946\n",
      "  (2926, 3721)\t0.3787131511321508\n",
      "  (2926, 5515)\t0.37981572400732677\n",
      "  (2926, 6483)\t0.38500997139347615\n",
      "  (2926, 8630)\t0.2807439210306803\n",
      "  (2926, 8637)\t0.17700670725703876\n",
      "  (2926, 8891)\t0.331604951486491\n",
      "  (2927, 165)\t0.31273884030102606\n",
      "  (2927, 1585)\t0.3513830579150067\n",
      "  (2927, 1876)\t0.3087447171014772\n",
      "  (2927, 2840)\t0.4115483118528995\n",
      "  (2927, 2867)\t0.33480431296261925\n",
      "  (2927, 4544)\t0.3522639018359626\n",
      "  (2927, 5175)\t0.3345359806228184\n",
      "  (2927, 7521)\t0.3710460545772613\n",
      "  (2927, 8533)\t0.1680945257488619\n"
     ]
    }
   ],
   "source": [
    "print(x_test)"
   ]
  },
  {
   "cell_type": "markdown",
   "metadata": {},
   "source": [
    "## Model train using Logistic Regression CV"
   ]
  },
  {
   "cell_type": "code",
   "execution_count": 34,
   "metadata": {},
   "outputs": [
    {
     "data": {
      "text/html": [
       "<style>#sk-container-id-1 {\n",
       "  /* Definition of color scheme common for light and dark mode */\n",
       "  --sklearn-color-text: black;\n",
       "  --sklearn-color-line: gray;\n",
       "  /* Definition of color scheme for unfitted estimators */\n",
       "  --sklearn-color-unfitted-level-0: #fff5e6;\n",
       "  --sklearn-color-unfitted-level-1: #f6e4d2;\n",
       "  --sklearn-color-unfitted-level-2: #ffe0b3;\n",
       "  --sklearn-color-unfitted-level-3: chocolate;\n",
       "  /* Definition of color scheme for fitted estimators */\n",
       "  --sklearn-color-fitted-level-0: #f0f8ff;\n",
       "  --sklearn-color-fitted-level-1: #d4ebff;\n",
       "  --sklearn-color-fitted-level-2: #b3dbfd;\n",
       "  --sklearn-color-fitted-level-3: cornflowerblue;\n",
       "\n",
       "  /* Specific color for light theme */\n",
       "  --sklearn-color-text-on-default-background: var(--sg-text-color, var(--theme-code-foreground, var(--jp-content-font-color1, black)));\n",
       "  --sklearn-color-background: var(--sg-background-color, var(--theme-background, var(--jp-layout-color0, white)));\n",
       "  --sklearn-color-border-box: var(--sg-text-color, var(--theme-code-foreground, var(--jp-content-font-color1, black)));\n",
       "  --sklearn-color-icon: #696969;\n",
       "\n",
       "  @media (prefers-color-scheme: dark) {\n",
       "    /* Redefinition of color scheme for dark theme */\n",
       "    --sklearn-color-text-on-default-background: var(--sg-text-color, var(--theme-code-foreground, var(--jp-content-font-color1, white)));\n",
       "    --sklearn-color-background: var(--sg-background-color, var(--theme-background, var(--jp-layout-color0, #111)));\n",
       "    --sklearn-color-border-box: var(--sg-text-color, var(--theme-code-foreground, var(--jp-content-font-color1, white)));\n",
       "    --sklearn-color-icon: #878787;\n",
       "  }\n",
       "}\n",
       "\n",
       "#sk-container-id-1 {\n",
       "  color: var(--sklearn-color-text);\n",
       "}\n",
       "\n",
       "#sk-container-id-1 pre {\n",
       "  padding: 0;\n",
       "}\n",
       "\n",
       "#sk-container-id-1 input.sk-hidden--visually {\n",
       "  border: 0;\n",
       "  clip: rect(1px 1px 1px 1px);\n",
       "  clip: rect(1px, 1px, 1px, 1px);\n",
       "  height: 1px;\n",
       "  margin: -1px;\n",
       "  overflow: hidden;\n",
       "  padding: 0;\n",
       "  position: absolute;\n",
       "  width: 1px;\n",
       "}\n",
       "\n",
       "#sk-container-id-1 div.sk-dashed-wrapped {\n",
       "  border: 1px dashed var(--sklearn-color-line);\n",
       "  margin: 0 0.4em 0.5em 0.4em;\n",
       "  box-sizing: border-box;\n",
       "  padding-bottom: 0.4em;\n",
       "  background-color: var(--sklearn-color-background);\n",
       "}\n",
       "\n",
       "#sk-container-id-1 div.sk-container {\n",
       "  /* jupyter's `normalize.less` sets `[hidden] { display: none; }`\n",
       "     but bootstrap.min.css set `[hidden] { display: none !important; }`\n",
       "     so we also need the `!important` here to be able to override the\n",
       "     default hidden behavior on the sphinx rendered scikit-learn.org.\n",
       "     See: https://github.com/scikit-learn/scikit-learn/issues/21755 */\n",
       "  display: inline-block !important;\n",
       "  position: relative;\n",
       "}\n",
       "\n",
       "#sk-container-id-1 div.sk-text-repr-fallback {\n",
       "  display: none;\n",
       "}\n",
       "\n",
       "div.sk-parallel-item,\n",
       "div.sk-serial,\n",
       "div.sk-item {\n",
       "  /* draw centered vertical line to link estimators */\n",
       "  background-image: linear-gradient(var(--sklearn-color-text-on-default-background), var(--sklearn-color-text-on-default-background));\n",
       "  background-size: 2px 100%;\n",
       "  background-repeat: no-repeat;\n",
       "  background-position: center center;\n",
       "}\n",
       "\n",
       "/* Parallel-specific style estimator block */\n",
       "\n",
       "#sk-container-id-1 div.sk-parallel-item::after {\n",
       "  content: \"\";\n",
       "  width: 100%;\n",
       "  border-bottom: 2px solid var(--sklearn-color-text-on-default-background);\n",
       "  flex-grow: 1;\n",
       "}\n",
       "\n",
       "#sk-container-id-1 div.sk-parallel {\n",
       "  display: flex;\n",
       "  align-items: stretch;\n",
       "  justify-content: center;\n",
       "  background-color: var(--sklearn-color-background);\n",
       "  position: relative;\n",
       "}\n",
       "\n",
       "#sk-container-id-1 div.sk-parallel-item {\n",
       "  display: flex;\n",
       "  flex-direction: column;\n",
       "}\n",
       "\n",
       "#sk-container-id-1 div.sk-parallel-item:first-child::after {\n",
       "  align-self: flex-end;\n",
       "  width: 50%;\n",
       "}\n",
       "\n",
       "#sk-container-id-1 div.sk-parallel-item:last-child::after {\n",
       "  align-self: flex-start;\n",
       "  width: 50%;\n",
       "}\n",
       "\n",
       "#sk-container-id-1 div.sk-parallel-item:only-child::after {\n",
       "  width: 0;\n",
       "}\n",
       "\n",
       "/* Serial-specific style estimator block */\n",
       "\n",
       "#sk-container-id-1 div.sk-serial {\n",
       "  display: flex;\n",
       "  flex-direction: column;\n",
       "  align-items: center;\n",
       "  background-color: var(--sklearn-color-background);\n",
       "  padding-right: 1em;\n",
       "  padding-left: 1em;\n",
       "}\n",
       "\n",
       "\n",
       "/* Toggleable style: style used for estimator/Pipeline/ColumnTransformer box that is\n",
       "clickable and can be expanded/collapsed.\n",
       "- Pipeline and ColumnTransformer use this feature and define the default style\n",
       "- Estimators will overwrite some part of the style using the `sk-estimator` class\n",
       "*/\n",
       "\n",
       "/* Pipeline and ColumnTransformer style (default) */\n",
       "\n",
       "#sk-container-id-1 div.sk-toggleable {\n",
       "  /* Default theme specific background. It is overwritten whether we have a\n",
       "  specific estimator or a Pipeline/ColumnTransformer */\n",
       "  background-color: var(--sklearn-color-background);\n",
       "}\n",
       "\n",
       "/* Toggleable label */\n",
       "#sk-container-id-1 label.sk-toggleable__label {\n",
       "  cursor: pointer;\n",
       "  display: block;\n",
       "  width: 100%;\n",
       "  margin-bottom: 0;\n",
       "  padding: 0.5em;\n",
       "  box-sizing: border-box;\n",
       "  text-align: center;\n",
       "}\n",
       "\n",
       "#sk-container-id-1 label.sk-toggleable__label-arrow:before {\n",
       "  /* Arrow on the left of the label */\n",
       "  content: \"▸\";\n",
       "  float: left;\n",
       "  margin-right: 0.25em;\n",
       "  color: var(--sklearn-color-icon);\n",
       "}\n",
       "\n",
       "#sk-container-id-1 label.sk-toggleable__label-arrow:hover:before {\n",
       "  color: var(--sklearn-color-text);\n",
       "}\n",
       "\n",
       "/* Toggleable content - dropdown */\n",
       "\n",
       "#sk-container-id-1 div.sk-toggleable__content {\n",
       "  max-height: 0;\n",
       "  max-width: 0;\n",
       "  overflow: hidden;\n",
       "  text-align: left;\n",
       "  /* unfitted */\n",
       "  background-color: var(--sklearn-color-unfitted-level-0);\n",
       "}\n",
       "\n",
       "#sk-container-id-1 div.sk-toggleable__content.fitted {\n",
       "  /* fitted */\n",
       "  background-color: var(--sklearn-color-fitted-level-0);\n",
       "}\n",
       "\n",
       "#sk-container-id-1 div.sk-toggleable__content pre {\n",
       "  margin: 0.2em;\n",
       "  border-radius: 0.25em;\n",
       "  color: var(--sklearn-color-text);\n",
       "  /* unfitted */\n",
       "  background-color: var(--sklearn-color-unfitted-level-0);\n",
       "}\n",
       "\n",
       "#sk-container-id-1 div.sk-toggleable__content.fitted pre {\n",
       "  /* unfitted */\n",
       "  background-color: var(--sklearn-color-fitted-level-0);\n",
       "}\n",
       "\n",
       "#sk-container-id-1 input.sk-toggleable__control:checked~div.sk-toggleable__content {\n",
       "  /* Expand drop-down */\n",
       "  max-height: 200px;\n",
       "  max-width: 100%;\n",
       "  overflow: auto;\n",
       "}\n",
       "\n",
       "#sk-container-id-1 input.sk-toggleable__control:checked~label.sk-toggleable__label-arrow:before {\n",
       "  content: \"▾\";\n",
       "}\n",
       "\n",
       "/* Pipeline/ColumnTransformer-specific style */\n",
       "\n",
       "#sk-container-id-1 div.sk-label input.sk-toggleable__control:checked~label.sk-toggleable__label {\n",
       "  color: var(--sklearn-color-text);\n",
       "  background-color: var(--sklearn-color-unfitted-level-2);\n",
       "}\n",
       "\n",
       "#sk-container-id-1 div.sk-label.fitted input.sk-toggleable__control:checked~label.sk-toggleable__label {\n",
       "  background-color: var(--sklearn-color-fitted-level-2);\n",
       "}\n",
       "\n",
       "/* Estimator-specific style */\n",
       "\n",
       "/* Colorize estimator box */\n",
       "#sk-container-id-1 div.sk-estimator input.sk-toggleable__control:checked~label.sk-toggleable__label {\n",
       "  /* unfitted */\n",
       "  background-color: var(--sklearn-color-unfitted-level-2);\n",
       "}\n",
       "\n",
       "#sk-container-id-1 div.sk-estimator.fitted input.sk-toggleable__control:checked~label.sk-toggleable__label {\n",
       "  /* fitted */\n",
       "  background-color: var(--sklearn-color-fitted-level-2);\n",
       "}\n",
       "\n",
       "#sk-container-id-1 div.sk-label label.sk-toggleable__label,\n",
       "#sk-container-id-1 div.sk-label label {\n",
       "  /* The background is the default theme color */\n",
       "  color: var(--sklearn-color-text-on-default-background);\n",
       "}\n",
       "\n",
       "/* On hover, darken the color of the background */\n",
       "#sk-container-id-1 div.sk-label:hover label.sk-toggleable__label {\n",
       "  color: var(--sklearn-color-text);\n",
       "  background-color: var(--sklearn-color-unfitted-level-2);\n",
       "}\n",
       "\n",
       "/* Label box, darken color on hover, fitted */\n",
       "#sk-container-id-1 div.sk-label.fitted:hover label.sk-toggleable__label.fitted {\n",
       "  color: var(--sklearn-color-text);\n",
       "  background-color: var(--sklearn-color-fitted-level-2);\n",
       "}\n",
       "\n",
       "/* Estimator label */\n",
       "\n",
       "#sk-container-id-1 div.sk-label label {\n",
       "  font-family: monospace;\n",
       "  font-weight: bold;\n",
       "  display: inline-block;\n",
       "  line-height: 1.2em;\n",
       "}\n",
       "\n",
       "#sk-container-id-1 div.sk-label-container {\n",
       "  text-align: center;\n",
       "}\n",
       "\n",
       "/* Estimator-specific */\n",
       "#sk-container-id-1 div.sk-estimator {\n",
       "  font-family: monospace;\n",
       "  border: 1px dotted var(--sklearn-color-border-box);\n",
       "  border-radius: 0.25em;\n",
       "  box-sizing: border-box;\n",
       "  margin-bottom: 0.5em;\n",
       "  /* unfitted */\n",
       "  background-color: var(--sklearn-color-unfitted-level-0);\n",
       "}\n",
       "\n",
       "#sk-container-id-1 div.sk-estimator.fitted {\n",
       "  /* fitted */\n",
       "  background-color: var(--sklearn-color-fitted-level-0);\n",
       "}\n",
       "\n",
       "/* on hover */\n",
       "#sk-container-id-1 div.sk-estimator:hover {\n",
       "  /* unfitted */\n",
       "  background-color: var(--sklearn-color-unfitted-level-2);\n",
       "}\n",
       "\n",
       "#sk-container-id-1 div.sk-estimator.fitted:hover {\n",
       "  /* fitted */\n",
       "  background-color: var(--sklearn-color-fitted-level-2);\n",
       "}\n",
       "\n",
       "/* Specification for estimator info (e.g. \"i\" and \"?\") */\n",
       "\n",
       "/* Common style for \"i\" and \"?\" */\n",
       "\n",
       ".sk-estimator-doc-link,\n",
       "a:link.sk-estimator-doc-link,\n",
       "a:visited.sk-estimator-doc-link {\n",
       "  float: right;\n",
       "  font-size: smaller;\n",
       "  line-height: 1em;\n",
       "  font-family: monospace;\n",
       "  background-color: var(--sklearn-color-background);\n",
       "  border-radius: 1em;\n",
       "  height: 1em;\n",
       "  width: 1em;\n",
       "  text-decoration: none !important;\n",
       "  margin-left: 1ex;\n",
       "  /* unfitted */\n",
       "  border: var(--sklearn-color-unfitted-level-1) 1pt solid;\n",
       "  color: var(--sklearn-color-unfitted-level-1);\n",
       "}\n",
       "\n",
       ".sk-estimator-doc-link.fitted,\n",
       "a:link.sk-estimator-doc-link.fitted,\n",
       "a:visited.sk-estimator-doc-link.fitted {\n",
       "  /* fitted */\n",
       "  border: var(--sklearn-color-fitted-level-1) 1pt solid;\n",
       "  color: var(--sklearn-color-fitted-level-1);\n",
       "}\n",
       "\n",
       "/* On hover */\n",
       "div.sk-estimator:hover .sk-estimator-doc-link:hover,\n",
       ".sk-estimator-doc-link:hover,\n",
       "div.sk-label-container:hover .sk-estimator-doc-link:hover,\n",
       ".sk-estimator-doc-link:hover {\n",
       "  /* unfitted */\n",
       "  background-color: var(--sklearn-color-unfitted-level-3);\n",
       "  color: var(--sklearn-color-background);\n",
       "  text-decoration: none;\n",
       "}\n",
       "\n",
       "div.sk-estimator.fitted:hover .sk-estimator-doc-link.fitted:hover,\n",
       ".sk-estimator-doc-link.fitted:hover,\n",
       "div.sk-label-container:hover .sk-estimator-doc-link.fitted:hover,\n",
       ".sk-estimator-doc-link.fitted:hover {\n",
       "  /* fitted */\n",
       "  background-color: var(--sklearn-color-fitted-level-3);\n",
       "  color: var(--sklearn-color-background);\n",
       "  text-decoration: none;\n",
       "}\n",
       "\n",
       "/* Span, style for the box shown on hovering the info icon */\n",
       ".sk-estimator-doc-link span {\n",
       "  display: none;\n",
       "  z-index: 9999;\n",
       "  position: relative;\n",
       "  font-weight: normal;\n",
       "  right: .2ex;\n",
       "  padding: .5ex;\n",
       "  margin: .5ex;\n",
       "  width: min-content;\n",
       "  min-width: 20ex;\n",
       "  max-width: 50ex;\n",
       "  color: var(--sklearn-color-text);\n",
       "  box-shadow: 2pt 2pt 4pt #999;\n",
       "  /* unfitted */\n",
       "  background: var(--sklearn-color-unfitted-level-0);\n",
       "  border: .5pt solid var(--sklearn-color-unfitted-level-3);\n",
       "}\n",
       "\n",
       ".sk-estimator-doc-link.fitted span {\n",
       "  /* fitted */\n",
       "  background: var(--sklearn-color-fitted-level-0);\n",
       "  border: var(--sklearn-color-fitted-level-3);\n",
       "}\n",
       "\n",
       ".sk-estimator-doc-link:hover span {\n",
       "  display: block;\n",
       "}\n",
       "\n",
       "/* \"?\"-specific style due to the `<a>` HTML tag */\n",
       "\n",
       "#sk-container-id-1 a.estimator_doc_link {\n",
       "  float: right;\n",
       "  font-size: 1rem;\n",
       "  line-height: 1em;\n",
       "  font-family: monospace;\n",
       "  background-color: var(--sklearn-color-background);\n",
       "  border-radius: 1rem;\n",
       "  height: 1rem;\n",
       "  width: 1rem;\n",
       "  text-decoration: none;\n",
       "  /* unfitted */\n",
       "  color: var(--sklearn-color-unfitted-level-1);\n",
       "  border: var(--sklearn-color-unfitted-level-1) 1pt solid;\n",
       "}\n",
       "\n",
       "#sk-container-id-1 a.estimator_doc_link.fitted {\n",
       "  /* fitted */\n",
       "  border: var(--sklearn-color-fitted-level-1) 1pt solid;\n",
       "  color: var(--sklearn-color-fitted-level-1);\n",
       "}\n",
       "\n",
       "/* On hover */\n",
       "#sk-container-id-1 a.estimator_doc_link:hover {\n",
       "  /* unfitted */\n",
       "  background-color: var(--sklearn-color-unfitted-level-3);\n",
       "  color: var(--sklearn-color-background);\n",
       "  text-decoration: none;\n",
       "}\n",
       "\n",
       "#sk-container-id-1 a.estimator_doc_link.fitted:hover {\n",
       "  /* fitted */\n",
       "  background-color: var(--sklearn-color-fitted-level-3);\n",
       "}\n",
       "</style><div id=\"sk-container-id-1\" class=\"sk-top-container\"><div class=\"sk-text-repr-fallback\"><pre>LogisticRegressionCV(max_iter=1000)</pre><b>In a Jupyter environment, please rerun this cell to show the HTML representation or trust the notebook. <br />On GitHub, the HTML representation is unable to render, please try loading this page with nbviewer.org.</b></div><div class=\"sk-container\" hidden><div class=\"sk-item\"><div class=\"sk-estimator fitted sk-toggleable\"><input class=\"sk-toggleable__control sk-hidden--visually\" id=\"sk-estimator-id-1\" type=\"checkbox\" checked><label for=\"sk-estimator-id-1\" class=\"sk-toggleable__label fitted sk-toggleable__label-arrow fitted\">&nbsp;&nbsp;LogisticRegressionCV<a class=\"sk-estimator-doc-link fitted\" rel=\"noreferrer\" target=\"_blank\" href=\"https://scikit-learn.org/1.5/modules/generated/sklearn.linear_model.LogisticRegressionCV.html\">?<span>Documentation for LogisticRegressionCV</span></a><span class=\"sk-estimator-doc-link fitted\">i<span>Fitted</span></span></label><div class=\"sk-toggleable__content fitted\"><pre>LogisticRegressionCV(max_iter=1000)</pre></div> </div></div></div></div>"
      ],
      "text/plain": [
       "LogisticRegressionCV(max_iter=1000)"
      ]
     },
     "execution_count": 34,
     "metadata": {},
     "output_type": "execute_result"
    }
   ],
   "source": [
    "model = LogisticRegressionCV(max_iter=1000)\n",
    "model.fit(x_train, y_train)"
   ]
  },
  {
   "cell_type": "code",
   "execution_count": 35,
   "metadata": {},
   "outputs": [],
   "source": [
    "x_train_prediction = model.predict(x_train)\n",
    "training_data_accuracy = accuracy_score(y_train, x_train_prediction)"
   ]
  },
  {
   "cell_type": "markdown",
   "metadata": {},
   "source": [
    "## Score the Train and Test Data Accuracy"
   ]
  },
  {
   "cell_type": "code",
   "execution_count": 36,
   "metadata": {},
   "outputs": [
    {
     "name": "stdout",
     "output_type": "stream",
     "text": [
      "Accuracy Score of Train Data: 0.9111168032786885\n"
     ]
    }
   ],
   "source": [
    "print('Accuracy Score of Train Data:',training_data_accuracy)"
   ]
  },
  {
   "cell_type": "code",
   "execution_count": 37,
   "metadata": {},
   "outputs": [],
   "source": [
    "x_test_prediction = model.predict(x_test)\n",
    "testing_data_accuracy = accuracy_score(y_test, x_test_prediction)"
   ]
  },
  {
   "cell_type": "code",
   "execution_count": 38,
   "metadata": {},
   "outputs": [
    {
     "name": "stdout",
     "output_type": "stream",
     "text": [
      "Accuracy Score of Test Data: 0.7800546448087432\n"
     ]
    }
   ],
   "source": [
    "print('Accuracy Score of Test Data:',testing_data_accuracy)"
   ]
  },
  {
   "cell_type": "markdown",
   "metadata": {},
   "source": [
    "### Creating a sav file for read and write"
   ]
  },
  {
   "cell_type": "code",
   "execution_count": 39,
   "metadata": {},
   "outputs": [],
   "source": [
    "import pickle\n",
    "filename='trained_model.sav'\n",
    "pickle.dump(model,open(filename, 'wb'))"
   ]
  },
  {
   "cell_type": "code",
   "execution_count": 40,
   "metadata": {},
   "outputs": [],
   "source": [
    "loaded_model = pickle.load(open('trained_model.sav','rb'))"
   ]
  },
  {
   "cell_type": "code",
   "execution_count": 41,
   "metadata": {},
   "outputs": [
    {
     "data": {
      "text/html": [
       "<div>\n",
       "<style scoped>\n",
       "    .dataframe tbody tr th:only-of-type {\n",
       "        vertical-align: middle;\n",
       "    }\n",
       "\n",
       "    .dataframe tbody tr th {\n",
       "        vertical-align: top;\n",
       "    }\n",
       "\n",
       "    .dataframe thead th {\n",
       "        text-align: right;\n",
       "    }\n",
       "</style>\n",
       "<table border=\"1\" class=\"dataframe\">\n",
       "  <thead>\n",
       "    <tr style=\"text-align: right;\">\n",
       "      <th></th>\n",
       "      <th>tweet_id</th>\n",
       "      <th>airline_sentiment</th>\n",
       "      <th>airline_sentiment_confidence</th>\n",
       "      <th>negativereason</th>\n",
       "      <th>negativereason_confidence</th>\n",
       "      <th>airline</th>\n",
       "      <th>airline_sentiment_gold</th>\n",
       "      <th>name</th>\n",
       "      <th>negativereason_gold</th>\n",
       "      <th>retweet_count</th>\n",
       "      <th>text</th>\n",
       "      <th>tweet_coord</th>\n",
       "      <th>tweet_created</th>\n",
       "      <th>tweet_location</th>\n",
       "      <th>user_timezone</th>\n",
       "      <th>stemmed_content</th>\n",
       "    </tr>\n",
       "  </thead>\n",
       "  <tbody>\n",
       "    <tr>\n",
       "      <th>0</th>\n",
       "      <td>570306133677760513</td>\n",
       "      <td>2</td>\n",
       "      <td>1.0000</td>\n",
       "      <td>Customer Service Issue</td>\n",
       "      <td>0.6706</td>\n",
       "      <td>Virgin America</td>\n",
       "      <td>negative</td>\n",
       "      <td>cairdin</td>\n",
       "      <td>Customer Service Issue</td>\n",
       "      <td>0</td>\n",
       "      <td>@VirginAmerica What @dhepburn said.</td>\n",
       "      <td>[0.0, 0.0]</td>\n",
       "      <td>2015-02-24 11:35:52 -0800</td>\n",
       "      <td>Boston, MA</td>\n",
       "      <td>Eastern Time (US &amp; Canada)</td>\n",
       "      <td>virginamerica dhepburn said</td>\n",
       "    </tr>\n",
       "    <tr>\n",
       "      <th>1</th>\n",
       "      <td>570301130888122368</td>\n",
       "      <td>1</td>\n",
       "      <td>0.3486</td>\n",
       "      <td>Customer Service Issue</td>\n",
       "      <td>0.0000</td>\n",
       "      <td>Virgin America</td>\n",
       "      <td>negative</td>\n",
       "      <td>jnardino</td>\n",
       "      <td>Customer Service Issue</td>\n",
       "      <td>0</td>\n",
       "      <td>@VirginAmerica plus you've added commercials t...</td>\n",
       "      <td>[0.0, 0.0]</td>\n",
       "      <td>2015-02-24 11:15:59 -0800</td>\n",
       "      <td>Boston, MA</td>\n",
       "      <td>Pacific Time (US &amp; Canada)</td>\n",
       "      <td>virginamerica plu ad commerci experi tacki</td>\n",
       "    </tr>\n",
       "    <tr>\n",
       "      <th>2</th>\n",
       "      <td>570301083672813571</td>\n",
       "      <td>2</td>\n",
       "      <td>0.6837</td>\n",
       "      <td>Customer Service Issue</td>\n",
       "      <td>0.6706</td>\n",
       "      <td>Virgin America</td>\n",
       "      <td>negative</td>\n",
       "      <td>yvonnalynn</td>\n",
       "      <td>Customer Service Issue</td>\n",
       "      <td>0</td>\n",
       "      <td>@VirginAmerica I didn't today... Must mean I n...</td>\n",
       "      <td>[0.0, 0.0]</td>\n",
       "      <td>2015-02-24 11:15:48 -0800</td>\n",
       "      <td>Lets Play</td>\n",
       "      <td>Central Time (US &amp; Canada)</td>\n",
       "      <td>virginamerica today must mean need take anoth ...</td>\n",
       "    </tr>\n",
       "    <tr>\n",
       "      <th>3</th>\n",
       "      <td>570301031407624196</td>\n",
       "      <td>0</td>\n",
       "      <td>1.0000</td>\n",
       "      <td>Bad Flight</td>\n",
       "      <td>0.7033</td>\n",
       "      <td>Virgin America</td>\n",
       "      <td>negative</td>\n",
       "      <td>jnardino</td>\n",
       "      <td>Customer Service Issue</td>\n",
       "      <td>0</td>\n",
       "      <td>@VirginAmerica it's really aggressive to blast...</td>\n",
       "      <td>[0.0, 0.0]</td>\n",
       "      <td>2015-02-24 11:15:36 -0800</td>\n",
       "      <td>Boston, MA</td>\n",
       "      <td>Pacific Time (US &amp; Canada)</td>\n",
       "      <td>virginamerica realli aggress blast obnoxi ente...</td>\n",
       "    </tr>\n",
       "    <tr>\n",
       "      <th>4</th>\n",
       "      <td>570300817074462722</td>\n",
       "      <td>0</td>\n",
       "      <td>1.0000</td>\n",
       "      <td>Can't Tell</td>\n",
       "      <td>1.0000</td>\n",
       "      <td>Virgin America</td>\n",
       "      <td>negative</td>\n",
       "      <td>jnardino</td>\n",
       "      <td>Customer Service Issue</td>\n",
       "      <td>0</td>\n",
       "      <td>@VirginAmerica and it's a really big bad thing...</td>\n",
       "      <td>[0.0, 0.0]</td>\n",
       "      <td>2015-02-24 11:14:45 -0800</td>\n",
       "      <td>Boston, MA</td>\n",
       "      <td>Pacific Time (US &amp; Canada)</td>\n",
       "      <td>virginamerica realli big bad thing</td>\n",
       "    </tr>\n",
       "  </tbody>\n",
       "</table>\n",
       "</div>"
      ],
      "text/plain": [
       "             tweet_id  airline_sentiment  airline_sentiment_confidence  \\\n",
       "0  570306133677760513                  2                        1.0000   \n",
       "1  570301130888122368                  1                        0.3486   \n",
       "2  570301083672813571                  2                        0.6837   \n",
       "3  570301031407624196                  0                        1.0000   \n",
       "4  570300817074462722                  0                        1.0000   \n",
       "\n",
       "           negativereason  negativereason_confidence         airline  \\\n",
       "0  Customer Service Issue                     0.6706  Virgin America   \n",
       "1  Customer Service Issue                     0.0000  Virgin America   \n",
       "2  Customer Service Issue                     0.6706  Virgin America   \n",
       "3              Bad Flight                     0.7033  Virgin America   \n",
       "4              Can't Tell                     1.0000  Virgin America   \n",
       "\n",
       "  airline_sentiment_gold        name     negativereason_gold  retweet_count  \\\n",
       "0               negative     cairdin  Customer Service Issue              0   \n",
       "1               negative    jnardino  Customer Service Issue              0   \n",
       "2               negative  yvonnalynn  Customer Service Issue              0   \n",
       "3               negative    jnardino  Customer Service Issue              0   \n",
       "4               negative    jnardino  Customer Service Issue              0   \n",
       "\n",
       "                                                text tweet_coord  \\\n",
       "0                @VirginAmerica What @dhepburn said.  [0.0, 0.0]   \n",
       "1  @VirginAmerica plus you've added commercials t...  [0.0, 0.0]   \n",
       "2  @VirginAmerica I didn't today... Must mean I n...  [0.0, 0.0]   \n",
       "3  @VirginAmerica it's really aggressive to blast...  [0.0, 0.0]   \n",
       "4  @VirginAmerica and it's a really big bad thing...  [0.0, 0.0]   \n",
       "\n",
       "               tweet_created tweet_location               user_timezone  \\\n",
       "0  2015-02-24 11:35:52 -0800     Boston, MA  Eastern Time (US & Canada)   \n",
       "1  2015-02-24 11:15:59 -0800     Boston, MA  Pacific Time (US & Canada)   \n",
       "2  2015-02-24 11:15:48 -0800      Lets Play  Central Time (US & Canada)   \n",
       "3  2015-02-24 11:15:36 -0800     Boston, MA  Pacific Time (US & Canada)   \n",
       "4  2015-02-24 11:14:45 -0800     Boston, MA  Pacific Time (US & Canada)   \n",
       "\n",
       "                                     stemmed_content  \n",
       "0                        virginamerica dhepburn said  \n",
       "1         virginamerica plu ad commerci experi tacki  \n",
       "2  virginamerica today must mean need take anoth ...  \n",
       "3  virginamerica realli aggress blast obnoxi ente...  \n",
       "4                 virginamerica realli big bad thing  "
      ]
     },
     "execution_count": 41,
     "metadata": {},
     "output_type": "execute_result"
    }
   ],
   "source": [
    "df.head()"
   ]
  },
  {
   "cell_type": "markdown",
   "metadata": {},
   "source": [
    "### Checking the prediction is right or wrong"
   ]
  },
  {
   "cell_type": "code",
   "execution_count": 42,
   "metadata": {},
   "outputs": [
    {
     "name": "stdout",
     "output_type": "stream",
     "text": [
      "0\n",
      "[0]\n",
      "negative tweet\n"
     ]
    }
   ],
   "source": [
    "x_new = x_test[569]\n",
    "print(y_test[569])\n",
    "prediction=model.predict(x_new)\n",
    "print(prediction)\n",
    "\n",
    "if (prediction[0]==1):\n",
    "    print('positive tweet')\n",
    "elif(prediction[0]==0):\n",
    "    print('negative tweet')\n",
    "else:\n",
    "    print('neutral tweet')"
   ]
  },
  {
   "cell_type": "code",
   "execution_count": 43,
   "metadata": {},
   "outputs": [
    {
     "name": "stdout",
     "output_type": "stream",
     "text": [
      "1\n",
      "[1]\n",
      "positive tweet\n"
     ]
    }
   ],
   "source": [
    "x_new = x_test[3]\n",
    "print(y_test[3])\n",
    "prediction=model.predict(x_new)\n",
    "print(prediction)\n",
    "\n",
    "if (prediction[0]==1):\n",
    "    print('positive tweet')\n",
    "elif(prediction[0]==0):\n",
    "    print('negative tweet')\n",
    "else:\n",
    "    print('neutral tweet')"
   ]
  },
  {
   "cell_type": "markdown",
   "metadata": {},
   "source": [
    "# Done That Prediction"
   ]
  }
 ],
 "metadata": {
  "kernelspec": {
   "display_name": "Python 3",
   "language": "python",
   "name": "python3"
  },
  "language_info": {
   "codemirror_mode": {
    "name": "ipython",
    "version": 3
   },
   "file_extension": ".py",
   "mimetype": "text/x-python",
   "name": "python",
   "nbconvert_exporter": "python",
   "pygments_lexer": "ipython3",
   "version": "3.10.2"
  }
 },
 "nbformat": 4,
 "nbformat_minor": 2
}
